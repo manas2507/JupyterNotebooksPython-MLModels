{
 "cells": [
  {
   "cell_type": "code",
   "execution_count": 1,
   "metadata": {},
   "outputs": [],
   "source": [
    "from bs4 import BeautifulSoup\n",
    "import requests"
   ]
  },
  {
   "cell_type": "code",
   "execution_count": null,
   "metadata": {},
   "outputs": [],
   "source": [
    "#listOfRedmiPhones = []\n",
    "import pandas as pd\n",
    "from googlesearch import search\n",
    "\n",
    "url = []\n",
    "i = 0\n",
    "j = 0\n",
    "phoneName = []\n",
    "phonePrice = []\n",
    "bNameList = []\n",
    "df = pd.DataFrame(columns = ['Brand Name','Name','Price'])\n",
    "#num = int(input('Number of companies = '))\n",
    "#k = 0\n",
    "#df['Brand Name'] = ''\n",
    "#while k < num:\n",
    "#    brand = input('Brand Name {} = '.format(k+1))\n",
    "#    brandName.append(brand)\n",
    "#    k = k + 1\n",
    "brandName = ['Samsung','LYF','Xiaomi','Vivo','Oppo','Motorola','Lenovo','Micromax','Gionee','Lava','Apple','Huawei','Intex','LG','Nokia','Asus','Karbonn','Panasonic','Itel','Coolpad','Oneplus','Tecno','Leeco','HTC','Infocus']\n",
    "k = 0\n",
    "for b in brandName:\n",
    "    query = b + 'price list: gadgets.ndtv.com'\n",
    "    print(b)\n",
    "    i = 0\n",
    "    url = []\n",
    "    for j in search(query, tld=\"co.in\", num=3, stop=1):\n",
    "        if 'price' in j:\n",
    "            url.append(j)\n",
    "        else:\n",
    "            continue\n",
    "    print(url[0])   \n",
    "    response = requests.get(url[0], headers={'User-agent': 'Mozilla/5.0 (Windows NT 6.2; WOW64) AppleWebKit/537.36 (KHTML, like Gecko) Chrome/37.0.2062.120 Safari/537.36'})\n",
    "\n",
    "    soup = BeautifulSoup(response.content, \"lxml\")\n",
    "\n",
    "\n",
    "    listOfRedmiPhones = soup.findAll('li') \n",
    "    n = len(listOfRedmiPhones)\n",
    "    while i < n:\n",
    "        try:\n",
    "            #from googlesearch import search\n",
    "            phoneName.append(listOfRedmiPhones[i].find('strong').get_text())\n",
    "            phonePrice.append(listOfRedmiPhones[i].find('span', class_ = \"\").get_text())\n",
    "            bNameList.append(b)\n",
    "            #print('{}, {}'.format(phoneName[j],phonePrice[j]))\n",
    "            i = i + 1\n",
    "            #j = j + 1\n",
    "        except AttributeError: \n",
    "            i = i + 1\n",
    "    k = k + 1\n",
    "df['Brand Name'] = bNameList\n",
    "df['Name'] = phoneName\n",
    "df['Price'] = phonePrice\n",
    "#print('There are {} models of Redmi'.format(n))\n",
    "print(df)"
   ]
  },
  {
   "cell_type": "code",
   "execution_count": 134,
   "metadata": {},
   "outputs": [],
   "source": [
    "df.to_csv('phone-list.csv', header = ['Brand Name','Model Name','Price'])"
   ]
  },
  {
   "cell_type": "code",
   "execution_count": 139,
   "metadata": {},
   "outputs": [
    {
     "data": {
      "text/html": [
       "<div>\n",
       "<style scoped>\n",
       "    .dataframe tbody tr th:only-of-type {\n",
       "        vertical-align: middle;\n",
       "    }\n",
       "\n",
       "    .dataframe tbody tr th {\n",
       "        vertical-align: top;\n",
       "    }\n",
       "\n",
       "    .dataframe thead th {\n",
       "        text-align: right;\n",
       "    }\n",
       "</style>\n",
       "<table border=\"1\" class=\"dataframe\">\n",
       "  <thead>\n",
       "    <tr style=\"text-align: right;\">\n",
       "      <th></th>\n",
       "      <th>Unnamed: 0</th>\n",
       "      <th>Brand Name</th>\n",
       "      <th>Model Name</th>\n",
       "      <th>Price</th>\n",
       "    </tr>\n",
       "  </thead>\n",
       "  <tbody>\n",
       "    <tr>\n",
       "      <th>0</th>\n",
       "      <td>0</td>\n",
       "      <td>Samsung</td>\n",
       "      <td>Samsung Galaxy S9+</td>\n",
       "      <td>Rs.62,499</td>\n",
       "    </tr>\n",
       "    <tr>\n",
       "      <th>1</th>\n",
       "      <td>1</td>\n",
       "      <td>Samsung</td>\n",
       "      <td>Samsung Galaxy Note 8</td>\n",
       "      <td>Rs.59,900</td>\n",
       "    </tr>\n",
       "    <tr>\n",
       "      <th>2</th>\n",
       "      <td>2</td>\n",
       "      <td>Samsung</td>\n",
       "      <td>Samsung Galaxy Note7</td>\n",
       "      <td>Rs.59,900</td>\n",
       "    </tr>\n",
       "    <tr>\n",
       "      <th>3</th>\n",
       "      <td>3</td>\n",
       "      <td>Samsung</td>\n",
       "      <td>Samsung Galaxy S9</td>\n",
       "      <td>Rs.55,399</td>\n",
       "    </tr>\n",
       "    <tr>\n",
       "      <th>4</th>\n",
       "      <td>4</td>\n",
       "      <td>Samsung</td>\n",
       "      <td>Samsung Galaxy Note Edge</td>\n",
       "      <td>Rs.49,500</td>\n",
       "    </tr>\n",
       "  </tbody>\n",
       "</table>\n",
       "</div>"
      ],
      "text/plain": [
       "   Unnamed: 0 Brand Name                Model Name      Price\n",
       "0           0    Samsung        Samsung Galaxy S9+  Rs.62,499\n",
       "1           1    Samsung     Samsung Galaxy Note 8  Rs.59,900\n",
       "2           2    Samsung      Samsung Galaxy Note7  Rs.59,900\n",
       "3           3    Samsung         Samsung Galaxy S9  Rs.55,399\n",
       "4           4    Samsung  Samsung Galaxy Note Edge  Rs.49,500"
      ]
     },
     "execution_count": 139,
     "metadata": {},
     "output_type": "execute_result"
    }
   ],
   "source": [
    "output = pd.read_csv('phone-list.csv')\n",
    "output.head()"
   ]
  }
 ],
 "metadata": {
  "kernelspec": {
   "display_name": "Python 3",
   "language": "python",
   "name": "python3"
  },
  "language_info": {
   "codemirror_mode": {
    "name": "ipython",
    "version": 3
   },
   "file_extension": ".py",
   "mimetype": "text/x-python",
   "name": "python",
   "nbconvert_exporter": "python",
   "pygments_lexer": "ipython3",
   "version": "3.6.4"
  }
 },
 "nbformat": 4,
 "nbformat_minor": 2
}
