{
 "cells": [
  {
   "cell_type": "markdown",
   "metadata": {},
   "source": [
    "# Importing libraries and initialising the spark session"
   ]
  },
  {
   "cell_type": "code",
   "execution_count": 1,
   "metadata": {},
   "outputs": [],
   "source": [
    "from pyspark.ml import Pipeline\n",
    "from pyspark.ml.classification import DecisionTreeClassifier\n",
    "from pyspark.ml.feature import StringIndexer, VectorIndexer\n",
    "from pyspark.ml.evaluation import MulticlassClassificationEvaluator\n",
    "from pyspark.sql import SparkSession\n",
    "\n",
    "spark = SparkSession \\\n",
    ".builder \\\n",
    ".appName(\"attrition example\") \\\n",
    ".config(\"spark.some.config.option\", \"some-value\") \\\n",
    ".getOrCreate()\n",
    "\n",
    "data = spark.read.load(\"attrition-db.csv\",format=\"csv\",header=True,inferSchema=True)\n",
    "\n",
    "# Index labels, adding metadata to the label column.\n",
    "# Fit on whole dataset to include all labels in index.\n",
    "labelIndexer = StringIndexer(inputCol=\"Attrition\", outputCol=\"indexedAttrition\").fit(data)\n",
    "# Automatically identify categorical features, and index them.\n",
    "# We specify maxCategories so features with > 4 distinct values are treated as continuous."
   ]
  },
  {
   "cell_type": "markdown",
   "metadata": {},
   "source": [
    "# Pre processing the data as per the requirements"
   ]
  },
  {
   "cell_type": "code",
   "execution_count": 2,
   "metadata": {},
   "outputs": [
    {
     "name": "stdout",
     "output_type": "stream",
     "text": [
      "root\n",
      " |-- Age: integer (nullable = true)\n",
      " |-- Attrition: string (nullable = true)\n",
      " |-- BusinessTravel: string (nullable = true)\n",
      " |-- DailyRate: integer (nullable = true)\n",
      " |-- Department: string (nullable = true)\n",
      " |-- DistanceFromHome: integer (nullable = true)\n",
      " |-- Education: integer (nullable = true)\n",
      " |-- EducationField: string (nullable = true)\n",
      " |-- EmployeeCount: integer (nullable = true)\n",
      " |-- EmployeeNumber: integer (nullable = true)\n",
      " |-- EnvironmentSatisfaction: integer (nullable = true)\n",
      " |-- Gender: string (nullable = true)\n",
      " |-- HourlyRate: integer (nullable = true)\n",
      " |-- JobInvolvement: integer (nullable = true)\n",
      " |-- JobLevel: integer (nullable = true)\n",
      " |-- JobRole: string (nullable = true)\n",
      " |-- JobSatisfaction: integer (nullable = true)\n",
      " |-- MaritalStatus: string (nullable = true)\n",
      " |-- MonthlyIncome: integer (nullable = true)\n",
      " |-- MonthlyRate: integer (nullable = true)\n",
      " |-- NumCompaniesWorked: integer (nullable = true)\n",
      " |-- Over18: string (nullable = true)\n",
      " |-- OverTime: string (nullable = true)\n",
      " |-- PercentSalaryHike: integer (nullable = true)\n",
      " |-- PerformanceRating: integer (nullable = true)\n",
      " |-- RelationshipSatisfaction: integer (nullable = true)\n",
      " |-- StandardHours: integer (nullable = true)\n",
      " |-- StockOptionLevel: integer (nullable = true)\n",
      " |-- TotalWorkingYears: integer (nullable = true)\n",
      " |-- TrainingTimesLastYear: integer (nullable = true)\n",
      " |-- WorkLifeBalance: integer (nullable = true)\n",
      " |-- YearsAtCompany: integer (nullable = true)\n",
      " |-- YearsInCurrentRole: integer (nullable = true)\n",
      " |-- YearsSinceLastPromotion: integer (nullable = true)\n",
      " |-- YearsWithCurrManager: integer (nullable = true)\n",
      " |-- indBusinessTravel: double (nullable = false)\n",
      " |-- indDepartment: double (nullable = false)\n",
      " |-- indEducationField: double (nullable = false)\n",
      " |-- indGender: double (nullable = false)\n",
      " |-- indJobRole: double (nullable = false)\n",
      " |-- indMaritalStatus: double (nullable = false)\n",
      " |-- indOver18: double (nullable = false)\n",
      " |-- indOverTime: double (nullable = false)\n",
      "\n"
     ]
    }
   ],
   "source": [
    "indexer = StringIndexer(inputCol=\"BusinessTravel\", outputCol=\"indBusinessTravel\")\n",
    "indexed_att_data = indexer.fit(data).transform(data)\n",
    "\n",
    "indexer = StringIndexer(inputCol=\"Department\", outputCol=\"indDepartment\")\n",
    "indexed_att_data = indexer.fit(indexed_att_data).transform(indexed_att_data)\n",
    "\n",
    "indexer = StringIndexer(inputCol=\"EducationField\", outputCol=\"indEducationField\")\n",
    "indexed_att_data = indexer.fit(indexed_att_data).transform(indexed_att_data)\n",
    "\n",
    "indexer = StringIndexer(inputCol=\"Gender\", outputCol=\"indGender\")\n",
    "indexed_att_data = indexer.fit(indexed_att_data).transform(indexed_att_data)\n",
    "\n",
    "indexer = StringIndexer(inputCol=\"JobRole\", outputCol=\"indJobRole\")\n",
    "indexed_att_data = indexer.fit(indexed_att_data).transform(indexed_att_data)\n",
    "\n",
    "indexer = StringIndexer(inputCol=\"MaritalStatus\", outputCol=\"indMaritalStatus\")\n",
    "indexed_att_data = indexer.fit(indexed_att_data).transform(indexed_att_data)\n",
    "\n",
    "indexer = StringIndexer(inputCol=\"Over18\", outputCol=\"indOver18\")\n",
    "indexed_att_data = indexer.fit(indexed_att_data).transform(indexed_att_data)\n",
    "\n",
    "indexer = StringIndexer(inputCol=\"OverTime\", outputCol=\"indOverTime\")\n",
    "indexed_att_data = indexer.fit(indexed_att_data).transform(indexed_att_data)\n",
    "\n",
    "indexed_att_data.printSchema()"
   ]
  },
  {
   "cell_type": "markdown",
   "metadata": {},
   "source": [
    "# Vectoring the features"
   ]
  },
  {
   "cell_type": "code",
   "execution_count": 3,
   "metadata": {},
   "outputs": [],
   "source": [
    "from pyspark.ml.feature import VectorAssembler\n",
    "vectorAss = VectorAssembler(inputCols=[\"Age\",\n",
    "                                       \"indBusinessTravel\",\n",
    "                                       \"DailyRate\",\n",
    "                                       \"indDepartment\",\n",
    "                                      \"DistanceFromHome\",\"Education\",\"indEducationField\",\n",
    "                                      \"EmployeeCount\",\"EmployeeNumber\",\"EnvironmentSatisfaction\",\n",
    "                                      \"indGender\",\"HourlyRate\",\"JobInvolvement\",\"JobLevel\",\"indJobRole\",\n",
    "                                      \"JobSatisfaction\",\"indMaritalStatus\",\"MonthlyIncome\",\"MonthlyRate\",\n",
    "                                      \"NumCompaniesWorked\",\"indOver18\",\"indOverTime\",\"PercentSalaryHike\",\n",
    "                                      \"PerformanceRating\",\"RelationshipSatisfaction\",\"StandardHours\",\n",
    "                                      \"StockOptionLevel\",\"TotalWorkingYears\",\"TotalWorkingYears\",\n",
    "                                      \"TrainingTimesLastYear\",\"WorkLifeBalance\",\"YearsAtCompany\",\n",
    "                                      \"YearsAtCompany\",\"YearsInCurrentRole\",\"YearsSinceLastPromotion\",\n",
    "                                      \"YearsWithCurrManager\"]\n",
    "                            ,outputCol=\"features\")"
   ]
  },
  {
   "cell_type": "code",
   "execution_count": 4,
   "metadata": {},
   "outputs": [],
   "source": [
    "data = vectorAss.transform(indexed_att_data)"
   ]
  },
  {
   "cell_type": "code",
   "execution_count": 5,
   "metadata": {},
   "outputs": [],
   "source": [
    "featureIndexer =\\\n",
    "    VectorIndexer(inputCol=\"features\", outputCol=\"indexedFeatures\", maxCategories=4).fit(data)"
   ]
  },
  {
   "cell_type": "markdown",
   "metadata": {},
   "source": [
    "# Splitting the data into training and testing data"
   ]
  },
  {
   "cell_type": "code",
   "execution_count": 6,
   "metadata": {},
   "outputs": [],
   "source": [
    "(trainingData, testData) = data.randomSplit([0.7, 0.3])"
   ]
  },
  {
   "cell_type": "markdown",
   "metadata": {},
   "source": [
    "# Applying DecisionTreeClassifier"
   ]
  },
  {
   "cell_type": "code",
   "execution_count": 7,
   "metadata": {},
   "outputs": [],
   "source": [
    "dt = DecisionTreeClassifier(labelCol=\"indexedAttrition\", featuresCol=\"indexedFeatures\")"
   ]
  },
  {
   "cell_type": "markdown",
   "metadata": {},
   "source": [
    "# Adding the pipeline"
   ]
  },
  {
   "cell_type": "code",
   "execution_count": 8,
   "metadata": {},
   "outputs": [],
   "source": [
    "pipeline = Pipeline(stages=[labelIndexer, featureIndexer, dt])"
   ]
  },
  {
   "cell_type": "markdown",
   "metadata": {},
   "source": [
    "# Training the model"
   ]
  },
  {
   "cell_type": "code",
   "execution_count": 9,
   "metadata": {},
   "outputs": [],
   "source": [
    "model = pipeline.fit(trainingData)"
   ]
  },
  {
   "cell_type": "markdown",
   "metadata": {},
   "source": [
    "# Making predictions"
   ]
  },
  {
   "cell_type": "code",
   "execution_count": 10,
   "metadata": {},
   "outputs": [],
   "source": [
    "predictions = model.transform(testData)"
   ]
  },
  {
   "cell_type": "markdown",
   "metadata": {},
   "source": [
    "# Evaluating the model"
   ]
  },
  {
   "cell_type": "code",
   "execution_count": 11,
   "metadata": {},
   "outputs": [
    {
     "name": "stdout",
     "output_type": "stream",
     "text": [
      "+----------+----------------+--------------------+\n",
      "|prediction|indexedAttrition|            features|\n",
      "+----------+----------------+--------------------+\n",
      "|       1.0|             0.0|[18.0,2.0,1124.0,...|\n",
      "|       1.0|             0.0|[18.0,2.0,1431.0,...|\n",
      "|       0.0|             1.0|(36,[0,2,4,5,7,8,...|\n",
      "|       0.0|             0.0|[19.0,0.0,645.0,0...|\n",
      "|       1.0|             1.0|[19.0,2.0,504.0,0...|\n",
      "+----------+----------------+--------------------+\n",
      "only showing top 5 rows\n",
      "\n"
     ]
    }
   ],
   "source": [
    "predictions.select(\"prediction\", \"indexedAttrition\", \"features\").show(5)"
   ]
  },
  {
   "cell_type": "code",
   "execution_count": 12,
   "metadata": {},
   "outputs": [
    {
     "name": "stdout",
     "output_type": "stream",
     "text": [
      "Test Error = 0.155556 \n",
      "Accuracy = 0.844444 \n",
      "DecisionTreeClassificationModel (uid=DecisionTreeClassifier_40579e5fd1563ec63d22) of depth 5 with 61 nodes\n"
     ]
    }
   ],
   "source": [
    "evaluator = MulticlassClassificationEvaluator(\n",
    "    labelCol=\"indexedAttrition\", predictionCol=\"prediction\", metricName=\"accuracy\")\n",
    "accuracy = evaluator.evaluate(predictions)\n",
    "print(\"Test Error = %g \" % (1.0 - accuracy))\n",
    "print(\"Accuracy = %g \" % (accuracy))\n",
    "\n",
    "\n",
    "treeModel = model.stages[2]\n",
    "# summary only\n",
    "print(treeModel)"
   ]
  },
  {
   "cell_type": "markdown",
   "metadata": {},
   "source": [
    "# Confusion Matrix"
   ]
  },
  {
   "cell_type": "code",
   "execution_count": 13,
   "metadata": {},
   "outputs": [
    {
     "name": "stdout",
     "output_type": "stream",
     "text": [
      "True Positives: 24\n",
      "True Negatives: 356\n",
      "False Positives: 31\n",
      "False Negatives: 39\n",
      "Total 1470\n",
      "recall 0.38095238095238093\n",
      "precision - true 0.43636363636363634\n",
      "precision - false 0.9012658227848102\n"
     ]
    }
   ],
   "source": [
    "indexer_new = StringIndexer(inputCol=\"prediction\", outputCol=\"indexedPredictedLabel\")\n",
    "ind_pred = indexer_new.fit(predictions).transform(predictions)\n",
    "\n",
    "tp = ind_pred[(ind_pred.indexedAttrition == 1) & (ind_pred.prediction == 1)].count()\n",
    "tn = ind_pred[(ind_pred.indexedAttrition == 0) & (ind_pred.prediction == 0)].count()\n",
    "fp = ind_pred[(ind_pred.indexedAttrition == 0) & (ind_pred.prediction == 1)].count()\n",
    "fn = ind_pred[(ind_pred.indexedAttrition == 1) & (ind_pred.prediction == 0)].count()\n",
    "print (\"True Positives:\", tp)\n",
    "print (\"True Negatives:\", tn)\n",
    "print (\"False Positives:\", fp)\n",
    "print (\"False Negatives:\", fn)\n",
    "print (\"Total\", data.count())\n",
    "\n",
    "r = float(tp)/(tp + fn)\n",
    "print (\"recall\", r)\n",
    "\n",
    "p = float(tp) / (tp + fp)\n",
    "print (\"precision - true\", p)\n",
    "\n",
    "p1 = float(tn) / (tn + fn)\n",
    "print (\"precision - false\", p1)"
   ]
  },
  {
   "cell_type": "code",
   "execution_count": null,
   "metadata": {},
   "outputs": [],
   "source": []
  }
 ],
 "metadata": {
  "kernelspec": {
   "display_name": "Python 3",
   "language": "python",
   "name": "python3"
  },
  "language_info": {
   "codemirror_mode": {
    "name": "ipython",
    "version": 3
   },
   "file_extension": ".py",
   "mimetype": "text/x-python",
   "name": "python",
   "nbconvert_exporter": "python",
   "pygments_lexer": "ipython3",
   "version": "3.6.4"
  }
 },
 "nbformat": 4,
 "nbformat_minor": 2
}
