{
 "cells": [
  {
   "cell_type": "code",
   "execution_count": 1,
   "metadata": {},
   "outputs": [],
   "source": [
    "from pyspark.sql import SparkSession\n",
    "from pyspark.ml.feature import StringIndexer, VectorAssembler, VectorIndexer\n",
    "from pyspark.ml.classification import GBTClassifier\n",
    "from pyspark.ml import Pipeline\n",
    "from pyspark.ml.evaluation import MulticlassClassificationEvaluator"
   ]
  },
  {
   "cell_type": "code",
   "execution_count": 26,
   "metadata": {},
   "outputs": [],
   "source": [
    "#Libraries needed for plotting graphs\n",
    "import seaborn as sns\n",
    "from pylab import rcParams\n",
    "import matplotlib.pyplot as plt\n",
    "\n",
    "import pandas as pd\n",
    "\n",
    "%matplotlib inline\n",
    "rcParams['figure.figsize'] = 20, 20\n",
    "plt.style.use('seaborn-whitegrid')"
   ]
  },
  {
   "cell_type": "code",
   "execution_count": 3,
   "metadata": {},
   "outputs": [],
   "source": [
    "#Initialise the SparkSeesion\n",
    "\n",
    "spark = SparkSession \\\n",
    ".builder \\\n",
    ".appName(\"customer churn example\") \\\n",
    ".config(\"spark.some.config.option\", \"some-value\") \\\n",
    ".getOrCreate()\n",
    "\n",
    "# Load and parse the data file, converting it to a DataFrame.\n",
    "trainData = spark.read.load('churn-train.csv',format=\"csv\",inferschema=True, header=True)\n",
    "testData = spark.read.load('churn-test.csv',format=\"csv\",inferschema=True, header=True)"
   ]
  },
  {
   "cell_type": "code",
   "execution_count": 4,
   "metadata": {},
   "outputs": [],
   "source": [
    "#Index the label\n",
    "indexer = StringIndexer(inputCol=\"label\", outputCol=\"indLabel\")\n",
    "trainData = indexer.fit(trainData).transform(trainData)"
   ]
  },
  {
   "cell_type": "code",
   "execution_count": 5,
   "metadata": {},
   "outputs": [],
   "source": [
    "#converting the spark dataframe into pandas df\n",
    "trainPD = trainData.toPandas()"
   ]
  },
  {
   "cell_type": "code",
   "execution_count": 6,
   "metadata": {
    "scrolled": true
   },
   "outputs": [
    {
     "data": {
      "text/html": [
       "<div>\n",
       "<style scoped>\n",
       "    .dataframe tbody tr th:only-of-type {\n",
       "        vertical-align: middle;\n",
       "    }\n",
       "\n",
       "    .dataframe tbody tr th {\n",
       "        vertical-align: top;\n",
       "    }\n",
       "\n",
       "    .dataframe thead th {\n",
       "        text-align: right;\n",
       "    }\n",
       "</style>\n",
       "<table border=\"1\" class=\"dataframe\">\n",
       "  <thead>\n",
       "    <tr style=\"text-align: right;\">\n",
       "      <th></th>\n",
       "      <th>acclen</th>\n",
       "      <th>arcode</th>\n",
       "      <th>nummailmes</th>\n",
       "      <th>tdmin</th>\n",
       "      <th>tdcal</th>\n",
       "      <th>tdchar</th>\n",
       "      <th>temin</th>\n",
       "      <th>tecal</th>\n",
       "      <th>tecahr</th>\n",
       "      <th>tnmin</th>\n",
       "      <th>tncal</th>\n",
       "      <th>tnchar</th>\n",
       "      <th>timin</th>\n",
       "      <th>tical</th>\n",
       "      <th>tichar</th>\n",
       "      <th>ncsc</th>\n",
       "      <th>indLabel</th>\n",
       "    </tr>\n",
       "  </thead>\n",
       "  <tbody>\n",
       "    <tr>\n",
       "      <th>acclen</th>\n",
       "      <td>1.000000</td>\n",
       "      <td>-0.012463</td>\n",
       "      <td>-0.004628</td>\n",
       "      <td>0.006216</td>\n",
       "      <td>0.038470</td>\n",
       "      <td>0.006214</td>\n",
       "      <td>-0.006757</td>\n",
       "      <td>0.019260</td>\n",
       "      <td>-0.006745</td>\n",
       "      <td>-0.008955</td>\n",
       "      <td>-0.013176</td>\n",
       "      <td>-0.008960</td>\n",
       "      <td>0.009514</td>\n",
       "      <td>0.020661</td>\n",
       "      <td>0.009546</td>\n",
       "      <td>-0.003796</td>\n",
       "      <td>0.016541</td>\n",
       "    </tr>\n",
       "    <tr>\n",
       "      <th>arcode</th>\n",
       "      <td>-0.012463</td>\n",
       "      <td>1.000000</td>\n",
       "      <td>-0.001994</td>\n",
       "      <td>-0.008264</td>\n",
       "      <td>-0.009646</td>\n",
       "      <td>-0.008264</td>\n",
       "      <td>0.003580</td>\n",
       "      <td>-0.011886</td>\n",
       "      <td>0.003607</td>\n",
       "      <td>-0.005825</td>\n",
       "      <td>0.016522</td>\n",
       "      <td>-0.005845</td>\n",
       "      <td>-0.018288</td>\n",
       "      <td>-0.024179</td>\n",
       "      <td>-0.018395</td>\n",
       "      <td>0.027572</td>\n",
       "      <td>0.006174</td>\n",
       "    </tr>\n",
       "    <tr>\n",
       "      <th>nummailmes</th>\n",
       "      <td>-0.004628</td>\n",
       "      <td>-0.001994</td>\n",
       "      <td>1.000000</td>\n",
       "      <td>0.000778</td>\n",
       "      <td>-0.009548</td>\n",
       "      <td>0.000776</td>\n",
       "      <td>0.017562</td>\n",
       "      <td>-0.005864</td>\n",
       "      <td>0.017578</td>\n",
       "      <td>0.007681</td>\n",
       "      <td>0.007123</td>\n",
       "      <td>0.007663</td>\n",
       "      <td>0.002856</td>\n",
       "      <td>0.013957</td>\n",
       "      <td>0.002884</td>\n",
       "      <td>-0.013263</td>\n",
       "      <td>-0.089728</td>\n",
       "    </tr>\n",
       "    <tr>\n",
       "      <th>tdmin</th>\n",
       "      <td>0.006216</td>\n",
       "      <td>-0.008264</td>\n",
       "      <td>0.000778</td>\n",
       "      <td>1.000000</td>\n",
       "      <td>0.006750</td>\n",
       "      <td>1.000000</td>\n",
       "      <td>0.007043</td>\n",
       "      <td>0.015769</td>\n",
       "      <td>0.007029</td>\n",
       "      <td>0.004323</td>\n",
       "      <td>0.022972</td>\n",
       "      <td>0.004300</td>\n",
       "      <td>-0.010155</td>\n",
       "      <td>0.008033</td>\n",
       "      <td>-0.010092</td>\n",
       "      <td>-0.013423</td>\n",
       "      <td>0.205151</td>\n",
       "    </tr>\n",
       "    <tr>\n",
       "      <th>tdcal</th>\n",
       "      <td>0.038470</td>\n",
       "      <td>-0.009646</td>\n",
       "      <td>-0.009548</td>\n",
       "      <td>0.006750</td>\n",
       "      <td>1.000000</td>\n",
       "      <td>0.006753</td>\n",
       "      <td>-0.021451</td>\n",
       "      <td>0.006462</td>\n",
       "      <td>-0.021449</td>\n",
       "      <td>0.022938</td>\n",
       "      <td>-0.019557</td>\n",
       "      <td>0.022927</td>\n",
       "      <td>0.021565</td>\n",
       "      <td>0.004574</td>\n",
       "      <td>0.021666</td>\n",
       "      <td>-0.018942</td>\n",
       "      <td>0.018459</td>\n",
       "    </tr>\n",
       "    <tr>\n",
       "      <th>tdchar</th>\n",
       "      <td>0.006214</td>\n",
       "      <td>-0.008264</td>\n",
       "      <td>0.000776</td>\n",
       "      <td>1.000000</td>\n",
       "      <td>0.006753</td>\n",
       "      <td>1.000000</td>\n",
       "      <td>0.007050</td>\n",
       "      <td>0.015769</td>\n",
       "      <td>0.007036</td>\n",
       "      <td>0.004324</td>\n",
       "      <td>0.022972</td>\n",
       "      <td>0.004301</td>\n",
       "      <td>-0.010157</td>\n",
       "      <td>0.008032</td>\n",
       "      <td>-0.010094</td>\n",
       "      <td>-0.013427</td>\n",
       "      <td>0.205151</td>\n",
       "    </tr>\n",
       "    <tr>\n",
       "      <th>temin</th>\n",
       "      <td>-0.006757</td>\n",
       "      <td>0.003580</td>\n",
       "      <td>0.017562</td>\n",
       "      <td>0.007043</td>\n",
       "      <td>-0.021451</td>\n",
       "      <td>0.007050</td>\n",
       "      <td>1.000000</td>\n",
       "      <td>-0.011430</td>\n",
       "      <td>1.000000</td>\n",
       "      <td>-0.012584</td>\n",
       "      <td>0.007586</td>\n",
       "      <td>-0.012593</td>\n",
       "      <td>-0.011035</td>\n",
       "      <td>0.002541</td>\n",
       "      <td>-0.011067</td>\n",
       "      <td>-0.012985</td>\n",
       "      <td>0.092796</td>\n",
       "    </tr>\n",
       "    <tr>\n",
       "      <th>tecal</th>\n",
       "      <td>0.019260</td>\n",
       "      <td>-0.011886</td>\n",
       "      <td>-0.005864</td>\n",
       "      <td>0.015769</td>\n",
       "      <td>0.006462</td>\n",
       "      <td>0.015769</td>\n",
       "      <td>-0.011430</td>\n",
       "      <td>1.000000</td>\n",
       "      <td>-0.011423</td>\n",
       "      <td>-0.002093</td>\n",
       "      <td>0.007710</td>\n",
       "      <td>-0.002056</td>\n",
       "      <td>0.008703</td>\n",
       "      <td>0.017434</td>\n",
       "      <td>0.008674</td>\n",
       "      <td>0.002423</td>\n",
       "      <td>0.009233</td>\n",
       "    </tr>\n",
       "    <tr>\n",
       "      <th>tecahr</th>\n",
       "      <td>-0.006745</td>\n",
       "      <td>0.003607</td>\n",
       "      <td>0.017578</td>\n",
       "      <td>0.007029</td>\n",
       "      <td>-0.021449</td>\n",
       "      <td>0.007036</td>\n",
       "      <td>1.000000</td>\n",
       "      <td>-0.011423</td>\n",
       "      <td>1.000000</td>\n",
       "      <td>-0.012592</td>\n",
       "      <td>0.007596</td>\n",
       "      <td>-0.012601</td>\n",
       "      <td>-0.011043</td>\n",
       "      <td>0.002541</td>\n",
       "      <td>-0.011074</td>\n",
       "      <td>-0.012987</td>\n",
       "      <td>0.092786</td>\n",
       "    </tr>\n",
       "    <tr>\n",
       "      <th>tnmin</th>\n",
       "      <td>-0.008955</td>\n",
       "      <td>-0.005825</td>\n",
       "      <td>0.007681</td>\n",
       "      <td>0.004323</td>\n",
       "      <td>0.022938</td>\n",
       "      <td>0.004324</td>\n",
       "      <td>-0.012584</td>\n",
       "      <td>-0.002093</td>\n",
       "      <td>-0.012592</td>\n",
       "      <td>1.000000</td>\n",
       "      <td>0.011204</td>\n",
       "      <td>0.999999</td>\n",
       "      <td>-0.015207</td>\n",
       "      <td>-0.012353</td>\n",
       "      <td>-0.015180</td>\n",
       "      <td>-0.009288</td>\n",
       "      <td>0.035493</td>\n",
       "    </tr>\n",
       "    <tr>\n",
       "      <th>tncal</th>\n",
       "      <td>-0.013176</td>\n",
       "      <td>0.016522</td>\n",
       "      <td>0.007123</td>\n",
       "      <td>0.022972</td>\n",
       "      <td>-0.019557</td>\n",
       "      <td>0.022972</td>\n",
       "      <td>0.007586</td>\n",
       "      <td>0.007710</td>\n",
       "      <td>0.007596</td>\n",
       "      <td>0.011204</td>\n",
       "      <td>1.000000</td>\n",
       "      <td>0.011188</td>\n",
       "      <td>-0.013605</td>\n",
       "      <td>0.000305</td>\n",
       "      <td>-0.013630</td>\n",
       "      <td>-0.012802</td>\n",
       "      <td>0.006141</td>\n",
       "    </tr>\n",
       "    <tr>\n",
       "      <th>tnchar</th>\n",
       "      <td>-0.008960</td>\n",
       "      <td>-0.005845</td>\n",
       "      <td>0.007663</td>\n",
       "      <td>0.004300</td>\n",
       "      <td>0.022927</td>\n",
       "      <td>0.004301</td>\n",
       "      <td>-0.012593</td>\n",
       "      <td>-0.002056</td>\n",
       "      <td>-0.012601</td>\n",
       "      <td>0.999999</td>\n",
       "      <td>0.011188</td>\n",
       "      <td>1.000000</td>\n",
       "      <td>-0.015214</td>\n",
       "      <td>-0.012329</td>\n",
       "      <td>-0.015186</td>\n",
       "      <td>-0.009277</td>\n",
       "      <td>0.035496</td>\n",
       "    </tr>\n",
       "    <tr>\n",
       "      <th>timin</th>\n",
       "      <td>0.009514</td>\n",
       "      <td>-0.018288</td>\n",
       "      <td>0.002856</td>\n",
       "      <td>-0.010155</td>\n",
       "      <td>0.021565</td>\n",
       "      <td>-0.010157</td>\n",
       "      <td>-0.011035</td>\n",
       "      <td>0.008703</td>\n",
       "      <td>-0.011043</td>\n",
       "      <td>-0.015207</td>\n",
       "      <td>-0.013605</td>\n",
       "      <td>-0.015214</td>\n",
       "      <td>1.000000</td>\n",
       "      <td>0.032304</td>\n",
       "      <td>0.999993</td>\n",
       "      <td>-0.009640</td>\n",
       "      <td>0.068239</td>\n",
       "    </tr>\n",
       "    <tr>\n",
       "      <th>tical</th>\n",
       "      <td>0.020661</td>\n",
       "      <td>-0.024179</td>\n",
       "      <td>0.013957</td>\n",
       "      <td>0.008033</td>\n",
       "      <td>0.004574</td>\n",
       "      <td>0.008032</td>\n",
       "      <td>0.002541</td>\n",
       "      <td>0.017434</td>\n",
       "      <td>0.002541</td>\n",
       "      <td>-0.012353</td>\n",
       "      <td>0.000305</td>\n",
       "      <td>-0.012329</td>\n",
       "      <td>0.032304</td>\n",
       "      <td>1.000000</td>\n",
       "      <td>0.032372</td>\n",
       "      <td>-0.017561</td>\n",
       "      <td>-0.052844</td>\n",
       "    </tr>\n",
       "    <tr>\n",
       "      <th>tichar</th>\n",
       "      <td>0.009546</td>\n",
       "      <td>-0.018395</td>\n",
       "      <td>0.002884</td>\n",
       "      <td>-0.010092</td>\n",
       "      <td>0.021666</td>\n",
       "      <td>-0.010094</td>\n",
       "      <td>-0.011067</td>\n",
       "      <td>0.008674</td>\n",
       "      <td>-0.011074</td>\n",
       "      <td>-0.015180</td>\n",
       "      <td>-0.013630</td>\n",
       "      <td>-0.015186</td>\n",
       "      <td>0.999993</td>\n",
       "      <td>0.032372</td>\n",
       "      <td>1.000000</td>\n",
       "      <td>-0.009675</td>\n",
       "      <td>0.068259</td>\n",
       "    </tr>\n",
       "    <tr>\n",
       "      <th>ncsc</th>\n",
       "      <td>-0.003796</td>\n",
       "      <td>0.027572</td>\n",
       "      <td>-0.013263</td>\n",
       "      <td>-0.013423</td>\n",
       "      <td>-0.018942</td>\n",
       "      <td>-0.013427</td>\n",
       "      <td>-0.012985</td>\n",
       "      <td>0.002423</td>\n",
       "      <td>-0.012987</td>\n",
       "      <td>-0.009288</td>\n",
       "      <td>-0.012802</td>\n",
       "      <td>-0.009277</td>\n",
       "      <td>-0.009640</td>\n",
       "      <td>-0.017561</td>\n",
       "      <td>-0.009675</td>\n",
       "      <td>1.000000</td>\n",
       "      <td>0.208750</td>\n",
       "    </tr>\n",
       "    <tr>\n",
       "      <th>indLabel</th>\n",
       "      <td>0.016541</td>\n",
       "      <td>0.006174</td>\n",
       "      <td>-0.089728</td>\n",
       "      <td>0.205151</td>\n",
       "      <td>0.018459</td>\n",
       "      <td>0.205151</td>\n",
       "      <td>0.092796</td>\n",
       "      <td>0.009233</td>\n",
       "      <td>0.092786</td>\n",
       "      <td>0.035493</td>\n",
       "      <td>0.006141</td>\n",
       "      <td>0.035496</td>\n",
       "      <td>0.068239</td>\n",
       "      <td>-0.052844</td>\n",
       "      <td>0.068259</td>\n",
       "      <td>0.208750</td>\n",
       "      <td>1.000000</td>\n",
       "    </tr>\n",
       "  </tbody>\n",
       "</table>\n",
       "</div>"
      ],
      "text/plain": [
       "              acclen    arcode  nummailmes     tdmin     tdcal    tdchar  \\\n",
       "acclen      1.000000 -0.012463   -0.004628  0.006216  0.038470  0.006214   \n",
       "arcode     -0.012463  1.000000   -0.001994 -0.008264 -0.009646 -0.008264   \n",
       "nummailmes -0.004628 -0.001994    1.000000  0.000778 -0.009548  0.000776   \n",
       "tdmin       0.006216 -0.008264    0.000778  1.000000  0.006750  1.000000   \n",
       "tdcal       0.038470 -0.009646   -0.009548  0.006750  1.000000  0.006753   \n",
       "tdchar      0.006214 -0.008264    0.000776  1.000000  0.006753  1.000000   \n",
       "temin      -0.006757  0.003580    0.017562  0.007043 -0.021451  0.007050   \n",
       "tecal       0.019260 -0.011886   -0.005864  0.015769  0.006462  0.015769   \n",
       "tecahr     -0.006745  0.003607    0.017578  0.007029 -0.021449  0.007036   \n",
       "tnmin      -0.008955 -0.005825    0.007681  0.004323  0.022938  0.004324   \n",
       "tncal      -0.013176  0.016522    0.007123  0.022972 -0.019557  0.022972   \n",
       "tnchar     -0.008960 -0.005845    0.007663  0.004300  0.022927  0.004301   \n",
       "timin       0.009514 -0.018288    0.002856 -0.010155  0.021565 -0.010157   \n",
       "tical       0.020661 -0.024179    0.013957  0.008033  0.004574  0.008032   \n",
       "tichar      0.009546 -0.018395    0.002884 -0.010092  0.021666 -0.010094   \n",
       "ncsc       -0.003796  0.027572   -0.013263 -0.013423 -0.018942 -0.013427   \n",
       "indLabel    0.016541  0.006174   -0.089728  0.205151  0.018459  0.205151   \n",
       "\n",
       "               temin     tecal    tecahr     tnmin     tncal    tnchar  \\\n",
       "acclen     -0.006757  0.019260 -0.006745 -0.008955 -0.013176 -0.008960   \n",
       "arcode      0.003580 -0.011886  0.003607 -0.005825  0.016522 -0.005845   \n",
       "nummailmes  0.017562 -0.005864  0.017578  0.007681  0.007123  0.007663   \n",
       "tdmin       0.007043  0.015769  0.007029  0.004323  0.022972  0.004300   \n",
       "tdcal      -0.021451  0.006462 -0.021449  0.022938 -0.019557  0.022927   \n",
       "tdchar      0.007050  0.015769  0.007036  0.004324  0.022972  0.004301   \n",
       "temin       1.000000 -0.011430  1.000000 -0.012584  0.007586 -0.012593   \n",
       "tecal      -0.011430  1.000000 -0.011423 -0.002093  0.007710 -0.002056   \n",
       "tecahr      1.000000 -0.011423  1.000000 -0.012592  0.007596 -0.012601   \n",
       "tnmin      -0.012584 -0.002093 -0.012592  1.000000  0.011204  0.999999   \n",
       "tncal       0.007586  0.007710  0.007596  0.011204  1.000000  0.011188   \n",
       "tnchar     -0.012593 -0.002056 -0.012601  0.999999  0.011188  1.000000   \n",
       "timin      -0.011035  0.008703 -0.011043 -0.015207 -0.013605 -0.015214   \n",
       "tical       0.002541  0.017434  0.002541 -0.012353  0.000305 -0.012329   \n",
       "tichar     -0.011067  0.008674 -0.011074 -0.015180 -0.013630 -0.015186   \n",
       "ncsc       -0.012985  0.002423 -0.012987 -0.009288 -0.012802 -0.009277   \n",
       "indLabel    0.092796  0.009233  0.092786  0.035493  0.006141  0.035496   \n",
       "\n",
       "               timin     tical    tichar      ncsc  indLabel  \n",
       "acclen      0.009514  0.020661  0.009546 -0.003796  0.016541  \n",
       "arcode     -0.018288 -0.024179 -0.018395  0.027572  0.006174  \n",
       "nummailmes  0.002856  0.013957  0.002884 -0.013263 -0.089728  \n",
       "tdmin      -0.010155  0.008033 -0.010092 -0.013423  0.205151  \n",
       "tdcal       0.021565  0.004574  0.021666 -0.018942  0.018459  \n",
       "tdchar     -0.010157  0.008032 -0.010094 -0.013427  0.205151  \n",
       "temin      -0.011035  0.002541 -0.011067 -0.012985  0.092796  \n",
       "tecal       0.008703  0.017434  0.008674  0.002423  0.009233  \n",
       "tecahr     -0.011043  0.002541 -0.011074 -0.012987  0.092786  \n",
       "tnmin      -0.015207 -0.012353 -0.015180 -0.009288  0.035493  \n",
       "tncal      -0.013605  0.000305 -0.013630 -0.012802  0.006141  \n",
       "tnchar     -0.015214 -0.012329 -0.015186 -0.009277  0.035496  \n",
       "timin       1.000000  0.032304  0.999993 -0.009640  0.068239  \n",
       "tical       0.032304  1.000000  0.032372 -0.017561 -0.052844  \n",
       "tichar      0.999993  0.032372  1.000000 -0.009675  0.068259  \n",
       "ncsc       -0.009640 -0.017561 -0.009675  1.000000  0.208750  \n",
       "indLabel    0.068239 -0.052844  0.068259  0.208750  1.000000  "
      ]
     },
     "execution_count": 6,
     "metadata": {},
     "output_type": "execute_result"
    }
   ],
   "source": [
    "#Finding the correlation matrix\n",
    "\n",
    "corr = trainPD.corr()\n",
    "corr"
   ]
  },
  {
   "cell_type": "code",
   "execution_count": 27,
   "metadata": {},
   "outputs": [
    {
     "data": {
      "text/plain": [
       "<matplotlib.axes._subplots.AxesSubplot at 0x1a13da39b0>"
      ]
     },
     "execution_count": 27,
     "metadata": {},
     "output_type": "execute_result"
    },
    {
     "data": {
      "image/png": "[encoded data removed]",
      "text/plain": [
       "<matplotlib.figure.Figure at 0x10a5e9dd8>"
      ]
     },
     "metadata": {},
     "output_type": "display_data"
    }
   ],
   "source": [
    "#plotting the heat-map\n",
    "\n",
    "sns.heatmap(corr,xticklabels=corr.columns.values, yticklabels=corr.columns.values,linewidths=0.5)"
   ]
  },
  {
   "cell_type": "code",
   "execution_count": 28,
   "metadata": {},
   "outputs": [
    {
     "data": {
      "text/plain": [
       "Text(0,0.5,'Total Daily Time charges')"
      ]
     },
     "execution_count": 28,
     "metadata": {},
     "output_type": "execute_result"
    },
    {
     "data": {
      "image/png": "[encoded data removed]",
      "text/plain": [
       "<matplotlib.figure.Figure at 0x1a16868d30>"
      ]
     },
     "metadata": {},
     "output_type": "display_data"
    }
   ],
   "source": [
    "x = trainPD['indLabel']\n",
    "y = trainPD['tdchar']\n",
    " \n",
    "# Create scatter plot\n",
    "plt.scatter(x, y)\n",
    " \n",
    "# Add title and axis names\n",
    "plt.title('Total Daily Time charges v/s Churn')\n",
    "plt.xlabel('Churn')\n",
    "plt.ylabel('Total Daily Time charges')"
   ]
  },
  {
   "cell_type": "code",
   "execution_count": 29,
   "metadata": {},
   "outputs": [
    {
     "data": {
      "text/plain": [
       "Text(0,0.5,'Number of Customer service calls')"
      ]
     },
     "execution_count": 29,
     "metadata": {},
     "output_type": "execute_result"
    },
    {
     "data": {
      "image/png": "[encoded data removed]",
      "text/plain": [
       "<matplotlib.figure.Figure at 0x1a15b80630>"
      ]
     },
     "metadata": {},
     "output_type": "display_data"
    }
   ],
   "source": [
    "x = trainPD['indLabel']\n",
    "y = trainPD['ncsc']\n",
    " \n",
    "# Create scatter plot\n",
    "plt.scatter(x, y)\n",
    " \n",
    "# Add title and axis names\n",
    "plt.title('Number of Customer service calls v/s Churn')\n",
    "plt.xlabel('Churn')\n",
    "plt.ylabel('Number of Customer service calls')"
   ]
  },
  {
   "cell_type": "code",
   "execution_count": 10,
   "metadata": {},
   "outputs": [],
   "source": [
    "#assemble the features in one column = features for training data\n",
    "vectorAss = VectorAssembler(inputCols=[\"acclen\",\n",
    "                                       \"arcode\",\n",
    "                                       \"nummailmes\",\n",
    "                                       \"tdmin\",\n",
    "                                      \"tdcal\",\"tdchar\",\"temin\",\n",
    "                                      \"tecal\",\"tecahr\",\"tnmin\",\n",
    "                                      \"tncal\",\"tnchar\",\"timin\",\"tical\",\"tichar\",\n",
    "                                      \"ncsc\"]\n",
    "                            ,outputCol=\"features\")\n",
    "\n",
    "trainData = vectorAss.transform(trainData)\n",
    "\n",
    "#assemble the features in one column = features for testing data\n",
    "testData = vectorAss.transform(testData)"
   ]
  },
  {
   "cell_type": "code",
   "execution_count": 11,
   "metadata": {},
   "outputs": [],
   "source": [
    "# Index labels, adding metadata to the label column.\n",
    "# Fit on whole dataset to include all labels in index.\n",
    "labelIndexer = StringIndexer(inputCol=\"label\", outputCol=\"indexedLabel\").fit(trainData)"
   ]
  },
  {
   "cell_type": "code",
   "execution_count": 12,
   "metadata": {},
   "outputs": [],
   "source": [
    "# Automatically identify categorical features, and index them.\n",
    "# Set maxCategories so features with > 4 distinct values are treated as continuous.\n",
    "featureIndexer =\\\n",
    "    VectorIndexer(inputCol=\"features\", outputCol=\"indexedFeatures\", maxCategories=4).fit(trainData)"
   ]
  },
  {
   "cell_type": "code",
   "execution_count": 13,
   "metadata": {},
   "outputs": [],
   "source": [
    "#Train a gbt model\n",
    "gbt = GBTClassifier(labelCol=\"indexedLabel\",featuresCol=\"indexedFeatures\",maxIter=7)"
   ]
  },
  {
   "cell_type": "code",
   "execution_count": 14,
   "metadata": {},
   "outputs": [],
   "source": [
    "data = featureIndexer.transform(trainData)\n",
    "data = labelIndexer.transform(data)\n",
    "\n",
    "testData = featureIndexer.transform(testData)\n",
    "testData = labelIndexer.transform(testData)\n",
    "\n",
    "# Train model.  This also runs the indexers.\n",
    "model = gbt.fit(data)"
   ]
  },
  {
   "cell_type": "code",
   "execution_count": 15,
   "metadata": {},
   "outputs": [],
   "source": [
    "# Make predictions.\n",
    "predictions = model.transform(testData)"
   ]
  },
  {
   "cell_type": "code",
   "execution_count": 16,
   "metadata": {},
   "outputs": [
    {
     "name": "stdout",
     "output_type": "stream",
     "text": [
      "+----------+------------+--------------------+\n",
      "|prediction|indexedLabel|            features|\n",
      "+----------+------------+--------------------+\n",
      "|       0.0|         0.0|[101.0,510.0,0.0,...|\n",
      "|       1.0|         0.0|[137.0,510.0,0.0,...|\n",
      "|       0.0|         0.0|[103.0,408.0,29.0...|\n",
      "|       0.0|         0.0|[99.0,415.0,0.0,2...|\n",
      "|       0.0|         0.0|[108.0,415.0,0.0,...|\n",
      "+----------+------------+--------------------+\n",
      "only showing top 5 rows\n",
      "\n"
     ]
    }
   ],
   "source": [
    "# Select example rows to display.\n",
    "predictions.select(\"prediction\", \"indexedLabel\", \"features\").show(5)"
   ]
  },
  {
   "cell_type": "code",
   "execution_count": 17,
   "metadata": {},
   "outputs": [
    {
     "name": "stdout",
     "output_type": "stream",
     "text": [
      "Test Error = 0.0785843\n",
      "Accuracy = 0.921416\n"
     ]
    }
   ],
   "source": [
    "# Select (prediction, true label) and compute test error\n",
    "evaluator = MulticlassClassificationEvaluator(\n",
    "    labelCol=\"indexedLabel\", predictionCol=\"prediction\", metricName=\"accuracy\")\n",
    "accuracy = evaluator.evaluate(predictions)\n",
    "print(\"Test Error = %g\" % (1.0 - accuracy))\n",
    "print(\"Accuracy = %g\" % (accuracy))"
   ]
  },
  {
   "cell_type": "code",
   "execution_count": 18,
   "metadata": {},
   "outputs": [
    {
     "name": "stdout",
     "output_type": "stream",
     "text": [
      "True Positives: 115\n",
      "True Negatives: 1421\n",
      "False Positives: 22\n",
      "False Negatives: 109\n",
      "Total 1667\n",
      "recall 0.5133928571428571\n",
      "precision - true 0.5133928571428571\n",
      "precision - false 0.9847539847539848\n"
     ]
    }
   ],
   "source": [
    "tp = predictions[(predictions.indexedLabel == 1) & (predictions.prediction == 1)].count()\n",
    "tn = predictions[(predictions.indexedLabel == 0) & (predictions.prediction == 0)].count()\n",
    "fp = predictions[(predictions.indexedLabel == 0) & (predictions.prediction == 1)].count()\n",
    "fn = predictions[(predictions.indexedLabel == 1) & (predictions.prediction == 0)].count()\n",
    "print (\"True Positives:\", tp)\n",
    "print (\"True Negatives:\", tn)\n",
    "print (\"False Positives:\", fp)\n",
    "print (\"False Negatives:\", fn)\n",
    "print (\"Total\", predictions.count())\n",
    "\n",
    "r = float(tp)/(tp + fn)\n",
    "print (\"recall\", r)\n",
    "\n",
    "p = float(tp) / (tp + fn)\n",
    "print (\"precision - true\", p)\n",
    "\n",
    "p1 = float(tn) / (tn + fp)\n",
    "print (\"precision - false\", p1)"
   ]
  },
  {
   "cell_type": "code",
   "execution_count": 19,
   "metadata": {},
   "outputs": [
    {
     "name": "stdout",
     "output_type": "stream",
     "text": [
      "root\n",
      " |-- st: string (nullable = true)\n",
      " |-- acclen: integer (nullable = true)\n",
      " |-- arcode: integer (nullable = true)\n",
      " |-- phnum: string (nullable = true)\n",
      " |-- intplan: string (nullable = true)\n",
      " |-- voice: string (nullable = true)\n",
      " |-- nummailmes: integer (nullable = true)\n",
      " |-- tdmin: double (nullable = true)\n",
      " |-- tdcal: integer (nullable = true)\n",
      " |-- tdchar: double (nullable = true)\n",
      " |-- temin: double (nullable = true)\n",
      " |-- tecal: integer (nullable = true)\n",
      " |-- tecahr: double (nullable = true)\n",
      " |-- tnmin: double (nullable = true)\n",
      " |-- tncal: integer (nullable = true)\n",
      " |-- tnchar: double (nullable = true)\n",
      " |-- timin: double (nullable = true)\n",
      " |-- tical: integer (nullable = true)\n",
      " |-- tichar: double (nullable = true)\n",
      " |-- ncsc: integer (nullable = true)\n",
      " |-- label: string (nullable = true)\n",
      " |-- indLabel: double (nullable = false)\n",
      " |-- features: vector (nullable = true)\n",
      "\n"
     ]
    }
   ],
   "source": [
    "trainData.printSchema()"
   ]
  },
  {
   "cell_type": "code",
   "execution_count": 20,
   "metadata": {},
   "outputs": [
    {
     "data": {
      "text/plain": [
       "['acclen',\n",
       " 'arcode',\n",
       " 'nummailmes',\n",
       " 'tdmin',\n",
       " 'tdcal',\n",
       " 'tdchar',\n",
       " 'temin',\n",
       " 'tecal',\n",
       " 'tecahr',\n",
       " 'tnmin',\n",
       " 'tncal',\n",
       " 'tnchar',\n",
       " 'timin',\n",
       " 'tical',\n",
       " 'tichar',\n",
       " 'ncsc']"
      ]
     },
     "execution_count": 20,
     "metadata": {},
     "output_type": "execute_result"
    }
   ],
   "source": [
    "feature_list = list(trainData.columns)\n",
    "feature_list.remove('indLabel')\n",
    "feature_list.remove('label')\n",
    "feature_list.remove('features')\n",
    "feature_list.remove('st')\n",
    "feature_list.remove('phnum')\n",
    "feature_list.remove('intplan')\n",
    "feature_list.remove('voice')\n",
    "feature_list"
   ]
  },
  {
   "cell_type": "code",
   "execution_count": 21,
   "metadata": {},
   "outputs": [
    {
     "name": "stdout",
     "output_type": "stream",
     "text": [
      "Variable: tdmin                Importance: 0.28\n",
      "Variable: temin                Importance: 0.19\n",
      "Variable: tnmin                Importance: 0.11\n",
      "Variable: ncsc                 Importance: 0.1\n",
      "Variable: nummailmes           Importance: 0.09\n",
      "Variable: timin                Importance: 0.07\n",
      "Variable: tical                Importance: 0.05\n",
      "Variable: acclen               Importance: 0.04\n",
      "Variable: tdcal                Importance: 0.03\n",
      "Variable: tncal                Importance: 0.02\n",
      "Variable: arcode               Importance: 0.01\n",
      "Variable: tecal                Importance: 0.01\n",
      "Variable: tnchar               Importance: 0.01\n",
      "Variable: tdchar               Importance: 0.0\n",
      "Variable: tecahr               Importance: 0.0\n",
      "Variable: tichar               Importance: 0.0\n"
     ]
    }
   ],
   "source": [
    "# Get numerical feature importances\n",
    "importances = list(model.featureImportances)\n",
    "# List of tuples with variable and importance\n",
    "feature_importances = [(feature, round(importance, 2)) for feature, importance in zip(feature_list, importances)]\n",
    "# Sort the feature importances by most important first\n",
    "feature_importances = sorted(feature_importances, key = lambda x: x[1], reverse = True)\n",
    "# Print out the feature and importances \n",
    "[print('Variable: {:20} Importance: {}'.format(*pair)) for pair in feature_importances];"
   ]
  },
  {
   "cell_type": "code",
   "execution_count": 30,
   "metadata": {},
   "outputs": [
    {
     "data": {
      "image/png": "[encoded data removed]",
      "text/plain": [
       "<matplotlib.figure.Figure at 0x1a13c511d0>"
      ]
     },
     "metadata": {},
     "output_type": "display_data"
    }
   ],
   "source": [
    "# Set the style\n",
    "plt.style.use('fivethirtyeight')\n",
    "# list of x locations for plotting\n",
    "x_values = list(range(len(importances)))\n",
    "# Make a bar chart\n",
    "plt.bar(x_values, importances, orientation = 'vertical')\n",
    "# Tick labels for x axis\n",
    "plt.xticks(x_values, feature_list, rotation='vertical')\n",
    "# Axis labels and title\n",
    "plt.ylabel('Importance'); plt.xlabel('Variable'); plt.title('Variable Importances');"
   ]
  },
  {
   "cell_type": "code",
   "execution_count": null,
   "metadata": {},
   "outputs": [],
   "source": []
  }
 ],
 "metadata": {
  "kernelspec": {
   "display_name": "Python 3",
   "language": "python",
   "name": "python3"
  },
  "language_info": {
   "codemirror_mode": {
    "name": "ipython",
    "version": 3
   },
   "file_extension": ".py",
   "mimetype": "text/x-python",
   "name": "python",
   "nbconvert_exporter": "python",
   "pygments_lexer": "ipython3",
   "version": "3.6.4"
  }
 },
 "nbformat": 4,
 "nbformat_minor": 2
}
