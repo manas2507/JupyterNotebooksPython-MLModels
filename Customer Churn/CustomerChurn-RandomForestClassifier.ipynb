{
 "cells": [
  {
   "cell_type": "code",
   "execution_count": 1,
   "metadata": {},
   "outputs": [],
   "source": [
    "#Import Libraries\n",
    "\n",
    "from pyspark.sql import SparkSession\n",
    "from pyspark.ml import Pipeline\n",
    "from pyspark.ml.classification import RandomForestClassifier\n",
    "from pyspark.ml.feature import StringIndexer, VectorIndexer, IndexToString\n",
    "from pyspark.ml.evaluation import MulticlassClassificationEvaluator\n",
    "from pyspark.ml.feature import VectorAssembler\n",
    "from pyspark.ml.feature import ChiSqSelector\n",
    "from pyspark.ml.linalg import Vectors\n",
    "from pyspark import SparkContext"
   ]
  },
  {
   "cell_type": "code",
   "execution_count": 2,
   "metadata": {},
   "outputs": [],
   "source": [
    "#Initialise the SparkSeesion\n",
    "\n",
    "spark = SparkSession \\\n",
    ".builder \\\n",
    ".appName(\"customer churn example\") \\\n",
    ".config(\"spark.some.config.option\", \"some-value\") \\\n",
    ".getOrCreate()"
   ]
  },
  {
   "cell_type": "code",
   "execution_count": 3,
   "metadata": {},
   "outputs": [],
   "source": [
    "#Read the training data \n",
    "\n",
    "df = spark.read.load('churn-train.csv',format=\"csv\",inferschema=True, header=True)"
   ]
  },
  {
   "cell_type": "code",
   "execution_count": 4,
   "metadata": {},
   "outputs": [
    {
     "name": "stdout",
     "output_type": "stream",
     "text": [
      "root\n",
      " |-- st: string (nullable = true)\n",
      " |-- acclen: integer (nullable = true)\n",
      " |-- arcode: integer (nullable = true)\n",
      " |-- phnum: string (nullable = true)\n",
      " |-- intplan: string (nullable = true)\n",
      " |-- voice: string (nullable = true)\n",
      " |-- nummailmes: integer (nullable = true)\n",
      " |-- tdmin: double (nullable = true)\n",
      " |-- tdcal: integer (nullable = true)\n",
      " |-- tdchar: double (nullable = true)\n",
      " |-- temin: double (nullable = true)\n",
      " |-- tecal: integer (nullable = true)\n",
      " |-- tecahr: double (nullable = true)\n",
      " |-- tnmin: double (nullable = true)\n",
      " |-- tncal: integer (nullable = true)\n",
      " |-- tnchar: double (nullable = true)\n",
      " |-- timin: double (nullable = true)\n",
      " |-- tical: integer (nullable = true)\n",
      " |-- tichar: double (nullable = true)\n",
      " |-- ncsc: integer (nullable = true)\n",
      " |-- label: string (nullable = true)\n",
      "\n"
     ]
    }
   ],
   "source": [
    "#Schema of the training data\n",
    "\n",
    "df.printSchema()"
   ]
  },
  {
   "cell_type": "code",
   "execution_count": 5,
   "metadata": {},
   "outputs": [
    {
     "name": "stdout",
     "output_type": "stream",
     "text": [
      "root\n",
      " |-- st: string (nullable = true)\n",
      " |-- acclen: integer (nullable = true)\n",
      " |-- arcode: integer (nullable = true)\n",
      " |-- phnum: string (nullable = true)\n",
      " |-- intplan: string (nullable = true)\n",
      " |-- voice: string (nullable = true)\n",
      " |-- nummailmes: integer (nullable = true)\n",
      " |-- tdmin: double (nullable = true)\n",
      " |-- tdcal: integer (nullable = true)\n",
      " |-- tdchar: double (nullable = true)\n",
      " |-- temin: double (nullable = true)\n",
      " |-- tecal: integer (nullable = true)\n",
      " |-- tecahr: double (nullable = true)\n",
      " |-- tnmin: double (nullable = true)\n",
      " |-- tncal: integer (nullable = true)\n",
      " |-- tnchar: double (nullable = true)\n",
      " |-- timin: double (nullable = true)\n",
      " |-- tical: integer (nullable = true)\n",
      " |-- tichar: double (nullable = true)\n",
      " |-- ncsc: integer (nullable = true)\n",
      " |-- label: string (nullable = true)\n",
      " |-- indSt: double (nullable = false)\n",
      " |-- indPhnum: double (nullable = false)\n",
      " |-- indIntplan: double (nullable = false)\n",
      " |-- indVoice: double (nullable = false)\n",
      "\n"
     ]
    }
   ],
   "source": [
    "#Convert the strings to double using StringIndexer\n",
    "\n",
    "indexer = StringIndexer(inputCol=\"st\", outputCol=\"indSt\")\n",
    "indexed_df = indexer.fit(df).transform(df)\n",
    "\n",
    "indexer = StringIndexer(inputCol=\"phnum\", outputCol=\"indPhnum\")\n",
    "indexed_df = indexer.fit(indexed_df).transform(indexed_df)\n",
    "\n",
    "indexer = StringIndexer(inputCol=\"intplan\", outputCol=\"indIntplan\")\n",
    "indexed_df = indexer.fit(indexed_df).transform(indexed_df)\n",
    "\n",
    "indexer = StringIndexer(inputCol=\"voice\", outputCol=\"indVoice\")\n",
    "indexed_df = indexer.fit(indexed_df).transform(indexed_df)\n",
    "    \n",
    "indexed_df.printSchema()"
   ]
  },
  {
   "cell_type": "code",
   "execution_count": 12,
   "metadata": {},
   "outputs": [],
   "source": [
    "#dropping the columns that are indexed\n",
    "\n",
    "indexed_df = indexed_df.drop('st')\n",
    "indexed_df = indexed_df.drop('phnum')\n",
    "indexed_df = indexed_df.drop('intplan')\n",
    "indexed_df = indexed_df.drop('voice')"
   ]
  },
  {
   "cell_type": "code",
   "execution_count": 15,
   "metadata": {},
   "outputs": [],
   "source": [
    "#assemble the features in one column = features\n",
    "\n",
    "vectorAss = VectorAssembler(inputCols=[\"acclen\",\n",
    "                                       \"arcode\",\n",
    "                                       \"nummailmes\",\n",
    "                                       \"tdmin\",\n",
    "                                      \"tdcal\",\"tdchar\",\"temin\",\n",
    "                                      \"tecal\",\"tecahr\",\"tnmin\",\n",
    "                                      \"tncal\",\"tnchar\",\"timin\",\"tical\",\"tichar\",\n",
    "                                      \"ncsc\"]\n",
    "                            ,outputCol=\"features\")\n",
    "\n",
    "fi_train_df = vectorAss.transform(indexed_df)"
   ]
  },
  {
   "cell_type": "code",
   "execution_count": 16,
   "metadata": {},
   "outputs": [],
   "source": [
    "#index the features\n",
    "\n",
    "featureIndexer =\\\n",
    "    VectorIndexer(inputCol=\"features\", outputCol=\"indexedFeatures\", maxCategories=20).fit(fi_train_df)\n",
    "    \n",
    "fi_df = featureIndexer.transform(fi_train_df)"
   ]
  },
  {
   "cell_type": "code",
   "execution_count": 17,
   "metadata": {},
   "outputs": [],
   "source": [
    "#Run the Ranfom-Forest Classifier\n",
    "\n",
    "rf = RandomForestClassifier(labelCol=\"indexedLabel\", featuresCol=\"indexedFeatures\", numTrees=100, maxBins=32)"
   ]
  },
  {
   "cell_type": "code",
   "execution_count": 18,
   "metadata": {},
   "outputs": [],
   "source": [
    "#Index the label and convert the predictions to string\n",
    "\n",
    "labelIndexer = StringIndexer(inputCol=\"label\", outputCol=\"indexedLabel\").fit(fi_df)\n",
    "labelConverter = IndexToString(inputCol=\"prediction\", outputCol=\"predictedLabel\",\n",
    "                               labels=labelIndexer.labels)"
   ]
  },
  {
   "cell_type": "code",
   "execution_count": 19,
   "metadata": {},
   "outputs": [],
   "source": [
    "#Pipeline the features\n",
    "\n",
    "pipeline = Pipeline(stages=[labelIndexer, featureIndexer, rf, labelConverter])"
   ]
  },
  {
   "cell_type": "code",
   "execution_count": 20,
   "metadata": {},
   "outputs": [],
   "source": [
    "#train the model\n",
    "\n",
    "model = pipeline.fit(fi_df)"
   ]
  },
  {
   "cell_type": "code",
   "execution_count": 21,
   "metadata": {},
   "outputs": [
    {
     "data": {
      "text/plain": [
       "1667"
      ]
     },
     "execution_count": 21,
     "metadata": {},
     "output_type": "execute_result"
    }
   ],
   "source": [
    "#Add the testing data\n",
    "\n",
    "TEST = spark.read.load('churn-test.csv',format=\"csv\",inferschema=True, header=True)\n",
    "\n",
    "TEST.count()"
   ]
  },
  {
   "cell_type": "code",
   "execution_count": 22,
   "metadata": {},
   "outputs": [
    {
     "data": {
      "text/plain": [
       "1667"
      ]
     },
     "execution_count": 22,
     "metadata": {},
     "output_type": "execute_result"
    }
   ],
   "source": [
    "#prepare the testing data\n",
    "\n",
    "indexer = StringIndexer(inputCol=\"st\", outputCol=\"indSt\")\n",
    "TEST = indexer.fit(TEST).transform(TEST)\n",
    "\n",
    "indexer = StringIndexer(inputCol=\"phnum\", outputCol=\"indPhnum\")\n",
    "TEST = indexer.fit(TEST).transform(TEST)\n",
    "\n",
    "indexer = StringIndexer(inputCol=\"intplan\", outputCol=\"indIntplan\")\n",
    "TEST = indexer.fit(TEST).transform(TEST)\n",
    "\n",
    "indexer = StringIndexer(inputCol=\"voice\", outputCol=\"indVoice\")\n",
    "TEST = indexer.fit(TEST).transform(TEST)\n",
    "\n",
    "\n",
    "\n",
    "TEST.count()"
   ]
  },
  {
   "cell_type": "code",
   "execution_count": 23,
   "metadata": {},
   "outputs": [
    {
     "data": {
      "text/plain": [
       "1667"
      ]
     },
     "execution_count": 23,
     "metadata": {},
     "output_type": "execute_result"
    }
   ],
   "source": [
    "TEST.count()"
   ]
  },
  {
   "cell_type": "code",
   "execution_count": 24,
   "metadata": {},
   "outputs": [],
   "source": [
    "#assemble the features in the testing data\n",
    "\n",
    "newvectorAss = VectorAssembler(inputCols=[\"acclen\",\n",
    "                                       \"arcode\",\n",
    "                                       \"nummailmes\",\n",
    "                                       \"tdmin\",\n",
    "                                      \"tdcal\",\"tdchar\",\"temin\",\n",
    "                                      \"tecal\",\"tecahr\",\"tnmin\",\n",
    "                                      \"tncal\",\"tnchar\",\"timin\",\"tical\",\"tichar\",\n",
    "                                      \"ncsc\"]\n",
    "                            ,outputCol=\"features\")\n",
    "\n",
    "TEST = newvectorAss.transform(TEST)"
   ]
  },
  {
   "cell_type": "code",
   "execution_count": 25,
   "metadata": {},
   "outputs": [],
   "source": [
    "#index the features in the testing data\n",
    "\n",
    "featureIndexer =\\\n",
    "    VectorIndexer(inputCol=\"features\", outputCol=\"indexedFeatures\", maxCategories=4).fit(TEST)\n",
    "\n",
    "    \n",
    "TEST = featureIndexer.transform(TEST)"
   ]
  },
  {
   "cell_type": "code",
   "execution_count": 26,
   "metadata": {},
   "outputs": [],
   "source": [
    "#make predictions in the testing data\n",
    "\n",
    "predictions = model.transform(TEST)"
   ]
  },
  {
   "cell_type": "code",
   "execution_count": 27,
   "metadata": {},
   "outputs": [
    {
     "name": "stdout",
     "output_type": "stream",
     "text": [
      "Test Error = 0.0995801\n",
      "Accuracy = 0.90042\n",
      "RandomForestClassificationModel (uid=RandomForestClassifier_4524ad6b7625469e0710) with 100 trees\n"
     ]
    }
   ],
   "source": [
    "#Evaluate the model\n",
    "\n",
    "evaluator = MulticlassClassificationEvaluator(\n",
    "    labelCol=\"indexedLabel\", predictionCol=\"prediction\", metricName=\"accuracy\")\n",
    "accuracy = evaluator.evaluate(predictions)\n",
    "print(\"Test Error = %g\" % (1.0 - accuracy))\n",
    "print(\"Accuracy = %g\" % (accuracy))\n",
    "\n",
    "rfModel = model.stages[2]\n",
    "print(rfModel)  # summary only"
   ]
  },
  {
   "cell_type": "code",
   "execution_count": 28,
   "metadata": {},
   "outputs": [
    {
     "name": "stdout",
     "output_type": "stream",
     "text": [
      "True Positives: 58\n",
      "True Negatives: 1443\n",
      "False Positives: 0\n",
      "False Negatives: 166\n",
      "Total 1667\n",
      "recall 0.25892857142857145\n",
      "precision - true 1.0\n",
      "precision - false 0.8968303293971411\n"
     ]
    }
   ],
   "source": [
    "tp = predictions[(predictions.indexedLabel == 1) & (predictions.prediction == 1)].count()\n",
    "tn = predictions[(predictions.indexedLabel == 0) & (predictions.prediction == 0)].count()\n",
    "fp = predictions[(predictions.indexedLabel == 0) & (predictions.prediction == 1)].count()\n",
    "fn = predictions[(predictions.indexedLabel == 1) & (predictions.prediction == 0)].count()\n",
    "print (\"True Positives:\", tp)\n",
    "print (\"True Negatives:\", tn)\n",
    "print (\"False Positives:\", fp)\n",
    "print (\"False Negatives:\", fn)\n",
    "print (\"Total\", predictions.count())\n",
    "\n",
    "r = float(tp)/(tp + fn)\n",
    "print (\"recall\", r)\n",
    "\n",
    "p = float(tp) / (tp + fp)\n",
    "print (\"precision - true\", p)\n",
    "\n",
    "p1 = float(tn) / (tn + fn)\n",
    "print (\"precision - false\", p1)"
   ]
  },
  {
   "cell_type": "code",
   "execution_count": 33,
   "metadata": {},
   "outputs": [
    {
     "name": "stdout",
     "output_type": "stream",
     "text": [
      "root\n",
      " |-- st: string (nullable = true)\n",
      " |-- acclen: integer (nullable = true)\n",
      " |-- arcode: integer (nullable = true)\n",
      " |-- phnum: string (nullable = true)\n",
      " |-- intplan: string (nullable = true)\n",
      " |-- voice: string (nullable = true)\n",
      " |-- nummailmes: integer (nullable = true)\n",
      " |-- tdmin: double (nullable = true)\n",
      " |-- tdcal: integer (nullable = true)\n",
      " |-- tdchar: double (nullable = true)\n",
      " |-- temin: double (nullable = true)\n",
      " |-- tecal: integer (nullable = true)\n",
      " |-- tecahr: double (nullable = true)\n",
      " |-- tnmin: double (nullable = true)\n",
      " |-- tncal: integer (nullable = true)\n",
      " |-- tnchar: double (nullable = true)\n",
      " |-- timin: double (nullable = true)\n",
      " |-- tical: integer (nullable = true)\n",
      " |-- tichar: double (nullable = true)\n",
      " |-- ncsc: integer (nullable = true)\n",
      " |-- label: string (nullable = true)\n",
      " |-- indSt: double (nullable = false)\n",
      " |-- indPhnum: double (nullable = false)\n",
      " |-- indIntplan: double (nullable = false)\n",
      " |-- indVoice: double (nullable = false)\n",
      " |-- features: vector (nullable = true)\n",
      " |-- indexedFeatures: vector (nullable = true)\n",
      " |-- indexedLabel: double (nullable = false)\n",
      " |-- rawPrediction: vector (nullable = true)\n",
      " |-- probability: vector (nullable = true)\n",
      " |-- prediction: double (nullable = false)\n",
      " |-- predictedLabel: string (nullable = true)\n",
      "\n"
     ]
    }
   ],
   "source": [
    "predictions.printSchema()"
   ]
  },
  {
   "cell_type": "code",
   "execution_count": 40,
   "metadata": {},
   "outputs": [
    {
     "name": "stdout",
     "output_type": "stream",
     "text": [
      "ChiSqSelector output with top 4 features selected\n",
      "+-----------------------------------------------------------------------------------------+---------------------+\n",
      "|features                                                                                 |selectedFeatures     |\n",
      "+-----------------------------------------------------------------------------------------+---------------------+\n",
      "|[101.0,510.0,0.0,70.9,123.0,12.05,211.9,73.0,18.01,236.0,73.0,10.62,10.6,3.0,2.86,3.0]   |[70.9,12.05,3.0,3.0] |\n",
      "|[137.0,510.0,0.0,223.6,86.0,38.01,244.8,139.0,20.81,94.2,81.0,4.24,9.5,7.0,2.57,0.0]     |[223.6,38.01,7.0,0.0]|\n",
      "|[103.0,408.0,29.0,294.7,95.0,50.1,237.3,105.0,20.17,300.3,127.0,13.51,13.7,6.0,3.7,1.0]  |[294.7,50.1,6.0,1.0] |\n",
      "|[99.0,415.0,0.0,216.8,123.0,36.86,126.4,88.0,10.74,220.6,82.0,9.93,15.7,2.0,4.24,1.0]    |[216.8,36.86,2.0,1.0]|\n",
      "|[108.0,415.0,0.0,197.4,78.0,33.56,124.0,101.0,10.54,204.5,107.0,9.2,7.7,4.0,2.08,2.0]    |[197.4,33.56,4.0,2.0]|\n",
      "|[117.0,415.0,0.0,226.5,85.0,38.51,141.6,68.0,12.04,223.0,90.0,10.04,6.9,5.0,1.86,1.0]    |[226.5,38.51,5.0,1.0]|\n",
      "|[63.0,415.0,32.0,218.9,124.0,37.21,214.3,125.0,18.22,260.3,120.0,11.71,12.9,3.0,3.48,1.0]|[218.9,37.21,3.0,1.0]|\n",
      "|[94.0,408.0,0.0,157.5,97.0,26.78,224.5,112.0,19.08,310.8,106.0,13.99,11.1,6.0,3.0,0.0]   |[157.5,26.78,6.0,0.0]|\n",
      "|[138.0,510.0,0.0,89.1,117.0,15.15,126.8,46.0,10.78,190.5,71.0,8.57,9.9,4.0,2.67,2.0]     |[89.1,15.15,4.0,2.0] |\n",
      "|[128.0,415.0,43.0,177.8,100.0,30.23,147.3,89.0,12.52,194.2,92.0,8.74,11.9,1.0,3.21,0.0]  |[177.8,30.23,1.0,0.0]|\n",
      "|[113.0,510.0,39.0,209.8,77.0,35.67,164.1,90.0,13.95,159.7,100.0,7.19,9.0,4.0,2.43,1.0]   |[209.8,35.67,4.0,1.0]|\n",
      "|[140.0,415.0,0.0,93.2,109.0,15.84,197.6,116.0,16.8,219.8,94.0,9.89,10.5,2.0,2.84,1.0]    |[93.2,15.84,2.0,1.0] |\n",
      "|[102.0,415.0,0.0,228.1,86.0,38.78,156.0,97.0,13.26,227.9,124.0,10.26,10.6,9.0,2.86,1.0]  |[228.1,38.78,9.0,1.0]|\n",
      "|[108.0,415.0,0.0,112.6,86.0,19.14,114.9,101.0,9.77,177.8,119.0,8.0,7.2,6.0,1.94,3.0]     |[112.6,19.14,6.0,3.0]|\n",
      "|[60.0,408.0,0.0,207.3,77.0,35.24,207.9,105.0,17.67,108.2,89.0,4.87,12.9,5.0,3.48,1.0]    |[207.3,35.24,5.0,1.0]|\n",
      "|[96.0,408.0,0.0,208.1,93.0,35.38,189.2,107.0,16.08,279.6,90.0,12.58,7.4,2.0,2.0,1.0]     |[208.1,35.38,2.0,1.0]|\n",
      "|[178.0,415.0,22.0,112.8,66.0,19.18,232.6,100.0,19.77,194.8,119.0,8.77,14.3,3.0,3.86,1.0] |[112.8,19.18,3.0,1.0]|\n",
      "|[75.0,415.0,0.0,225.3,124.0,38.3,228.0,81.0,19.38,254.3,106.0,11.44,11.7,3.0,3.16,1.0]   |[225.3,38.3,3.0,1.0] |\n",
      "|[106.0,415.0,25.0,169.4,105.0,28.8,240.5,108.0,20.44,159.4,114.0,7.17,13.9,5.0,3.75,4.0] |[169.4,28.8,5.0,4.0] |\n",
      "|[158.0,510.0,0.0,193.3,121.0,32.86,208.1,97.0,17.69,228.1,99.0,10.26,7.1,9.0,1.92,1.0]   |[193.3,32.86,9.0,1.0]|\n",
      "+-----------------------------------------------------------------------------------------+---------------------+\n",
      "only showing top 20 rows\n",
      "\n"
     ]
    }
   ],
   "source": [
    "from pyspark.ml.feature import ChiSqSelector\n",
    "from pyspark.ml.linalg import Vectors\n",
    "\n",
    "selector = ChiSqSelector(numTopFeatures=4, featuresCol=\"features\",\n",
    "                         outputCol=\"selectedFeatures\", labelCol=\"indexedLabel\")\n",
    "\n",
    "result = selector.fit(predictions).transform(predictions)\n",
    "\n",
    "print(\"ChiSqSelector output with top %d features selected\" % selector.getNumTopFeatures())\n",
    "result.select(\"features\",\"selectedFeatures\").show(20, False)"
   ]
  },
  {
   "cell_type": "code",
   "execution_count": null,
   "metadata": {},
   "outputs": [],
   "source": []
  }
 ],
 "metadata": {
  "kernelspec": {
   "display_name": "Python 3",
   "language": "python",
   "name": "python3"
  },
  "language_info": {
   "codemirror_mode": {
    "name": "ipython",
    "version": 3
   },
   "file_extension": ".py",
   "mimetype": "text/x-python",
   "name": "python",
   "nbconvert_exporter": "python",
   "pygments_lexer": "ipython3",
   "version": "3.6.4"
  }
 },
 "nbformat": 4,
 "nbformat_minor": 2
}
