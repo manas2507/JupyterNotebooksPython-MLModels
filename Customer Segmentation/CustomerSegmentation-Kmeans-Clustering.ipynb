{
 "cells": [
  {
   "cell_type": "code",
   "execution_count": 381,
   "metadata": {},
   "outputs": [],
   "source": [
    "#import the libraries, initialise the spark session and then load the data in the spark dataframe\n",
    "from pyspark.ml.clustering import KMeans\n",
    "from pyspark.ml.evaluation import ClusteringEvaluator\n",
    "from pyspark.ml.feature import VectorAssembler, StringIndexer\n",
    "\n",
    "from pyspark.sql import SparkSession\n",
    "\n",
    "if __name__ == \"__main__\":\n",
    "    spark = SparkSession\\\n",
    "        .builder\\\n",
    "        .appName(\"KMeansExample\")\\\n",
    "        .getOrCreate()\n",
    "\n",
    "dataset = spark.read.load('app-category.csv',format=\"csv\",inferschema=True, header=True)"
   ]
  },
  {
   "cell_type": "code",
   "execution_count": 382,
   "metadata": {},
   "outputs": [],
   "source": [
    "import pandas as pd\n",
    "import numpy as np"
   ]
  },
  {
   "cell_type": "code",
   "execution_count": 383,
   "metadata": {},
   "outputs": [
    {
     "name": "stdout",
     "output_type": "stream",
     "text": [
      "root\n",
      " |-- phoneNumber: integer (nullable = true)\n",
      " |-- dataUsage: integer (nullable = true)\n",
      " |-- appName: string (nullable = true)\n",
      " |-- appCategory: string (nullable = true)\n",
      "\n"
     ]
    }
   ],
   "source": [
    "dataset.printSchema()"
   ]
  },
  {
   "cell_type": "code",
   "execution_count": 384,
   "metadata": {},
   "outputs": [
    {
     "name": "stdout",
     "output_type": "stream",
     "text": [
      "+-----------+---------+--------+-----------+\n",
      "|phoneNumber|dataUsage| appName|appCategory|\n",
      "+-----------+---------+--------+-----------+\n",
      "|     100000|     2430|   Gaana|      Music|\n",
      "|     100000|     1755|   Gmail|       Mail|\n",
      "|     100004|     3939| Youtube|  Streaming|\n",
      "|     100002|     4836| JioNews|       News|\n",
      "|     100001|     4791|   Gaana|      Music|\n",
      "|     100003|     3384|JioGames|      Games|\n",
      "|     100010|     1219| JioNews|       News|\n",
      "|     100009|     1904|   Gaana|      Music|\n",
      "|     100001|     2993|     TOI|       News|\n",
      "|     100007|     4885|Inshorts|       News|\n",
      "+-----------+---------+--------+-----------+\n",
      "only showing top 10 rows\n",
      "\n"
     ]
    }
   ],
   "source": [
    "dataset.show(10)"
   ]
  },
  {
   "cell_type": "code",
   "execution_count": 385,
   "metadata": {},
   "outputs": [
    {
     "name": "stdout",
     "output_type": "stream",
     "text": [
      "root\n",
      " |-- phoneNumber: integer (nullable = true)\n",
      " |-- dataUsage: integer (nullable = true)\n",
      " |-- appName: string (nullable = true)\n",
      " |-- appCategory: string (nullable = true)\n",
      " |-- appNameIndexed: double (nullable = false)\n",
      " |-- appCategoryIndexed: double (nullable = false)\n",
      "\n"
     ]
    }
   ],
   "source": [
    "#pre-process the data according to the requirements of the model\n",
    "\n",
    "stringIndexer = StringIndexer(inputCol=\"appName\", outputCol=\"appNameIndexed\")\n",
    "model = stringIndexer.fit(dataset)\n",
    "dataset = model.transform(dataset)\n",
    "\n",
    "stringIndexer = StringIndexer(inputCol=\"appCategory\", outputCol=\"appCategoryIndexed\")\n",
    "model = stringIndexer.fit(dataset)\n",
    "dataset = model.transform(dataset)\n",
    "\n",
    "dataset.printSchema()"
   ]
  },
  {
   "cell_type": "code",
   "execution_count": 386,
   "metadata": {},
   "outputs": [],
   "source": [
    "#assemble the features into one vector\n",
    "vectorAss = VectorAssembler(inputCols=[\"dataUsage\"],outputCol=\"features\")\n",
    "\n",
    "dataset = vectorAss.transform(dataset)"
   ]
  },
  {
   "cell_type": "code",
   "execution_count": 393,
   "metadata": {},
   "outputs": [],
   "source": [
    "# Trains a k-means model.\n",
    "kmeans = KMeans().setK(3).setSeed(1)\n",
    "model = kmeans.fit(dataset)\n",
    "\n",
    "# Make predictions\n",
    "predictions = model.transform(dataset)"
   ]
  },
  {
   "cell_type": "code",
   "execution_count": 394,
   "metadata": {},
   "outputs": [
    {
     "name": "stdout",
     "output_type": "stream",
     "text": [
      "Silhouette with squared euclidean distance = 0.7829932313550811\n",
      "Cluster Centers: \n",
      "[3004.60606061]\n",
      "[4492.79310345]\n",
      "[1611.68421053]\n",
      "+-----------+---------+--------+-----------+--------------+------------------+--------+----------+\n",
      "|phoneNumber|dataUsage| appName|appCategory|appNameIndexed|appCategoryIndexed|features|prediction|\n",
      "+-----------+---------+--------+-----------+--------------+------------------+--------+----------+\n",
      "|     100000|     2430|   Gaana|      Music|           6.0|               1.0|[2430.0]|         0|\n",
      "|     100000|     1755|   Gmail|       Mail|           7.0|               4.0|[1755.0]|         2|\n",
      "|     100004|     3939| Youtube|  Streaming|           0.0|               2.0|[3939.0]|         1|\n",
      "|     100002|     4836| JioNews|       News|           2.0|               0.0|[4836.0]|         1|\n",
      "|     100001|     4791|   Gaana|      Music|           6.0|               1.0|[4791.0]|         1|\n",
      "|     100003|     3384|JioGames|      Games|           1.0|               3.0|[3384.0]|         0|\n",
      "|     100010|     1219| JioNews|       News|           2.0|               0.0|[1219.0]|         2|\n",
      "|     100009|     1904|   Gaana|      Music|           6.0|               1.0|[1904.0]|         2|\n",
      "|     100001|     2993|     TOI|       News|           4.0|               0.0|[2993.0]|         0|\n",
      "|     100007|     4885|Inshorts|       News|           3.0|               0.0|[4885.0]|         1|\n",
      "|     100000|     2726| Youtube|  Streaming|           0.0|               2.0|[2726.0]|         0|\n",
      "|     100000|     3903|   Gmail|       Mail|           7.0|               4.0|[3903.0]|         1|\n",
      "|     100005|     2134|     TOI|       News|           4.0|               0.0|[2134.0]|         2|\n",
      "|     100005|     4049|JioGames|      Games|           1.0|               3.0|[4049.0]|         1|\n",
      "|     100001|     3302| Youtube|  Streaming|           0.0|               2.0|[3302.0]|         0|\n",
      "|     100009|     1728|Inshorts|       News|           3.0|               0.0|[1728.0]|         2|\n",
      "|     100007|     2016|   Gaana|      Music|           6.0|               1.0|[2016.0]|         2|\n",
      "|     100003|     3333|   Saavn|      Music|           5.0|               1.0|[3333.0]|         0|\n",
      "|     100006|     3426| JioNews|       News|           2.0|               0.0|[3426.0]|         0|\n",
      "|     100002|     4422|   Gmail|       Mail|           7.0|               4.0|[4422.0]|         1|\n",
      "+-----------+---------+--------+-----------+--------------+------------------+--------+----------+\n",
      "only showing top 20 rows\n",
      "\n"
     ]
    }
   ],
   "source": [
    "# Evaluate clustering by computing Silhouette score\n",
    "evaluator = ClusteringEvaluator()\n",
    "\n",
    "silhouette = evaluator.evaluate(predictions)\n",
    "print(\"Silhouette with squared euclidean distance = \" + str(silhouette))\n",
    "\n",
    "clist = []\n",
    "\n",
    "# Shows the result.\n",
    "centers = model.clusterCenters()\n",
    "print(\"Cluster Centers: \")\n",
    "for center in centers:\n",
    "    print(center)\n",
    "predictions.show()"
   ]
  },
  {
   "cell_type": "code",
   "execution_count": 395,
   "metadata": {},
   "outputs": [
    {
     "name": "stdout",
     "output_type": "stream",
     "text": [
      "+----------+-----+\n",
      "|prediction|count|\n",
      "+----------+-----+\n",
      "|         1|   29|\n",
      "|         2|   38|\n",
      "|         0|   33|\n",
      "+----------+-----+\n",
      "\n"
     ]
    }
   ],
   "source": [
    "numPred = predictions.groupby('prediction').count()\n",
    "\n",
    "numPred.show()"
   ]
  },
  {
   "cell_type": "code",
   "execution_count": 368,
   "metadata": {},
   "outputs": [],
   "source": [
    "numPredDF = predictions.toPandas()\n",
    "numPrediction = numPredDF[['prediction']]\n",
    "numPrediction\n",
    "\n",
    "numPredNP = numPrediction.values\n",
    "numPredNP = numPredNP.ravel()"
   ]
  },
  {
   "cell_type": "code",
   "execution_count": 408,
   "metadata": {},
   "outputs": [
    {
     "name": "stdout",
     "output_type": "stream",
     "text": [
      "+-----------+------------------+------------------+\n",
      "|appCategory|    avg(dataUsage)|count(phoneNumber)|\n",
      "+-----------+------------------+------------------+\n",
      "|       Mail|            3279.5|                 4|\n",
      "|      Games|            3150.0|                 6|\n",
      "|  Streaming|3085.5714285714284|                 7|\n",
      "|      Music|2887.6666666666665|                 3|\n",
      "|       News|2836.3076923076924|                13|\n",
      "+-----------+------------------+------------------+\n",
      "\n",
      "+-----------+-----------------+------------------+\n",
      "|appCategory|   avg(dataUsage)|count(phoneNumber)|\n",
      "+-----------+-----------------+------------------+\n",
      "|       Mail|          4247.75|                 4|\n",
      "|      Games|           4625.5|                 4|\n",
      "|  Streaming|          4497.75|                 4|\n",
      "|      Music|4483.142857142857|                 7|\n",
      "|       News|           4542.5|                10|\n",
      "+-----------+-----------------+------------------+\n",
      "\n",
      "+-----------+------------------+------------------+\n",
      "|appCategory|    avg(dataUsage)|count(phoneNumber)|\n",
      "+-----------+------------------+------------------+\n",
      "|       Mail|           1570.75|                 4|\n",
      "|      Games|            1907.0|                 3|\n",
      "|  Streaming|           1738.75|                 8|\n",
      "|      Music|1424.3636363636363|                11|\n",
      "|       News|            1638.5|                12|\n",
      "+-----------+------------------+------------------+\n",
      "\n",
      "+-------+--------------+--------------+------------------+\n",
      "|appName|appNameIndexed|avg(dataUsage)|count(phoneNumber)|\n",
      "+-------+--------------+--------------+------------------+\n",
      "+-------+--------------+--------------+------------------+\n",
      "\n",
      "+-------+--------------+------------------+\n",
      "|appName|avg(dataUsage)|count(phoneNumber)|\n",
      "+-------+--------------+------------------+\n",
      "+-------+--------------+------------------+\n",
      "\n",
      "+-------+--------------+------------------+\n",
      "|appName|avg(dataUsage)|count(phoneNumber)|\n",
      "+-------+--------------+------------------+\n",
      "+-------+--------------+------------------+\n",
      "\n"
     ]
    }
   ],
   "source": [
    "#understand the data in the clusters, like the average dataUsage and count of each appCategory\n",
    "predictions.createOrReplaceTempView(\"predFile\")\n",
    "\n",
    "df = spark.sql(\"select appCategory,avg(dataUsage),count(phoneNumber) from predFile where prediction = 0 group by appCategory\")\n",
    "df.show() \n",
    "\n",
    "df = spark.sql(\"select appCategory,avg(dataUsage),count(phoneNumber) from predFile where prediction = 1 group by appCategory\")\n",
    "df.show()\n",
    "\n",
    "df = spark.sql(\"select appCategory,avg(dataUsage),count(phoneNumber) from predFile where prediction = 2 group by appCategory\")\n",
    "df.show()"
   ]
  },
  {
   "cell_type": "code",
   "execution_count": 407,
   "metadata": {},
   "outputs": [
    {
     "name": "stdout",
     "output_type": "stream",
     "text": [
      "+----------+--------------+--------------+------------------+\n",
      "|prediction|min(dataUsage)|max(dataUsage)|    avg(dataUsage)|\n",
      "+----------+--------------+--------------+------------------+\n",
      "|         1|          3762|          5000| 4492.793103448276|\n",
      "|         2|          1038|          2260|1611.6842105263158|\n",
      "|         0|          2363|          3721|3004.6060606060605|\n",
      "+----------+--------------+--------------+------------------+\n",
      "\n"
     ]
    }
   ],
   "source": [
    "#analyse the dataUsage for each clusters \n",
    "df = spark.sql(\"select prediction,min(dataUsage),max(dataUsage),avg(dataUsage) from predFile group by prediction\")\n",
    "df.show()"
   ]
  },
  {
   "cell_type": "code",
   "execution_count": null,
   "metadata": {},
   "outputs": [],
   "source": []
  }
 ],
 "metadata": {
  "kernelspec": {
   "display_name": "Python 3",
   "language": "python",
   "name": "python3"
  },
  "language_info": {
   "codemirror_mode": {
    "name": "ipython",
    "version": 3
   },
   "file_extension": ".py",
   "mimetype": "text/x-python",
   "name": "python",
   "nbconvert_exporter": "python",
   "pygments_lexer": "ipython3",
   "version": "3.6.4"
  }
 },
 "nbformat": 4,
 "nbformat_minor": 2
}
